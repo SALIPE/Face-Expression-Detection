{
 "cells": [
  {
   "attachments": {},
   "cell_type": "markdown",
   "metadata": {},
   "source": [
    "### Enviroment prepare (imports)"
   ]
  },
  {
   "cell_type": "code",
   "execution_count": 103,
   "metadata": {},
   "outputs": [],
   "source": [
    "import matplotlib.pyplot as plt\n",
    "import torch\n",
    "import numpy as np\n",
    "import torch.nn as nn\n",
    "import torchvision\n",
    "import torch.nn.functional as F\n",
    "from torch.optim import Adam\n",
    "from torch.autograd import Variable\n",
    "from torchvision import datasets, transforms\n",
    "from torch.utils.data import  DataLoader,SubsetRandomSampler,ConcatDataset,Subset\n",
    "from sklearn.model_selection import KFold\n",
    "import pandas as pd"
   ]
  },
  {
   "attachments": {},
   "cell_type": "markdown",
   "metadata": {},
   "source": [
    "## DATA PREPARE"
   ]
  },
  {
   "attachments": {},
   "cell_type": "markdown",
   "metadata": {},
   "source": [
    "### IMPORT DATA"
   ]
  },
  {
   "attachments": {},
   "cell_type": "markdown",
   "metadata": {},
   "source": [
    "#### Datasets\n",
    "\n",
    "Para abordagem de será feito uma validação cruzada apenas para a validação do treinamento da **epoch**, onde usaremos dois datasets:\n",
    "\n",
    "- Fer Affectnet Database: https://www.kaggle.com/datasets/noamsegal/affectnet-training-data?select=contempt\n",
    "- Corrective re-annotation of FER - CK+ - KDEF: https://www.kaggle.com/datasets/sudarshanvaidya/corrective-reannotation-of-fer-ck-kdef?select=fer_ckplus_kdef\n",
    "- Dataset montado a partir de outros datasets:\n",
    "    1. FER Dataset: https://www.kaggle.com/c/challenges-in-representation-learning-facial-expression-recognition-challenge\n",
    "    2. CK Plus Dataset: https://github.com/WuJie1010/Facial-Expression-Recognition.Pytorch/tree/master/CK%2B48\n",
    "    3. KDEF Dataset: https://www.kdef.se/download-2/register.html\n",
    "\n",
    "Esses datasets possuem uma oitava classificação de expressão facial, na qual não usaremos em nosso desenvolvimento e aplicação, que é o **contempt**."
   ]
  },
  {
   "attachments": {},
   "cell_type": "markdown",
   "metadata": {},
   "source": [
    "##### Dataset dispositions"
   ]
  },
  {
   "attachments": {
    "image.png": {
     "image/png": "[encoded data removed]"
    }
   },
   "cell_type": "markdown",
   "metadata": {},
   "source": [
    "![image.png](attachment:image.png)"
   ]
  },
  {
   "attachments": {},
   "cell_type": "markdown",
   "metadata": {},
   "source": [
    "#### Transformation functions and hyperparams\n",
    "\n",
    "Aqui optaremos por duas transformações de imagens de treinamento, em modelos como AlexNet, VGG que trabalham com imagens de escala maior usaremos *227x227 pixels* para treinamento do AlexNet e *224x224 pixels* para o VGG.\n",
    "\n",
    "Outra abordagem será utilizar imagens de menor escala, para um rede neural menor de desenvolvimento próprio, baseado em outros notebooks e estudos relacionados, para esse modelo será utilizado amostras de imagens com a escala de *64x64 pixels*."
   ]
  },
  {
   "cell_type": "code",
   "execution_count": 104,
   "metadata": {},
   "outputs": [],
   "source": [
    "batch_size = 10\n",
    "classes = ('angry', 'fear', 'happy', 'neutral', 'sad', 'surprise','disgust')\n",
    "\n",
    "train_transform = transforms.Compose([\n",
    "    # transforms.Resize((64,64)),\n",
    "    # transforms.Resize((224,224)),\n",
    "    transforms.Resize((227,227)),\n",
    "    transforms.Grayscale(num_output_channels=3),\n",
    "    transforms.RandomHorizontalFlip(),\n",
    "    transforms.ToTensor(),\n",
    "])"
   ]
  },
  {
   "cell_type": "code",
   "execution_count": 105,
   "metadata": {},
   "outputs": [],
   "source": [
    "train_dataset = datasets.ImageFolder('./color_dataset_2/train', transform=train_transform)\n",
    "# train_loaded = DataLoader(train_dataset, batch_size=batch_size, shuffle=True)\n",
    "\n",
    "validation_dataset = datasets.ImageFolder('./fer_ckplus_dataset', transform=train_transform)\n",
    "concat_data = ConcatDataset([train_dataset,validation_dataset])"
   ]
  },
  {
   "attachments": {},
   "cell_type": "markdown",
   "metadata": {},
   "source": [
    "## Cross-Validation \n",
    "\n",
    "###### We'll use the cross validation with a diferent dataset, to improve the cnn knowledge"
   ]
  },
  {
   "cell_type": "code",
   "execution_count": 106,
   "metadata": {},
   "outputs": [],
   "source": [
    "k=10\n",
    "splits=KFold(n_splits=k,shuffle=True,random_state=42)\n",
    "foldperf={}"
   ]
  },
  {
   "attachments": {},
   "cell_type": "markdown",
   "metadata": {},
   "source": [
    "## Define Models Architecture"
   ]
  },
  {
   "attachments": {},
   "cell_type": "markdown",
   "metadata": {},
   "source": [
    "#### AlexNet model to 64x64px"
   ]
  },
  {
   "cell_type": "code",
   "execution_count": 107,
   "metadata": {},
   "outputs": [],
   "source": [
    "class FacialExpressionAlexNet(nn.Module):\n",
    "    def __init__(self, num_classes=7):\n",
    "        super(FacialExpressionAlexNet, self).__init__()\n",
    "        self.features = nn.Sequential(\n",
    "            nn.Conv2d(3, 96, kernel_size=11, stride=4, padding=2),\n",
    "            nn.MaxPool2d(kernel_size=3, stride=2),\n",
    "\n",
    "            nn.Conv2d(96, 256, kernel_size=5, padding=2),\n",
    "            nn.MaxPool2d(kernel_size=3, stride=2),\n",
    "\n",
    "            nn.Conv2d(256, 384, kernel_size=3, padding=1),\n",
    "\n",
    "            nn.Conv2d(384, 384, kernel_size=3, padding=1),\n",
    "\n",
    "            nn.Conv2d(384, 256, kernel_size=3, padding=1),\n",
    "            nn.MaxPool2d(kernel_size=3, stride=2)\n",
    "        )\n",
    "\n",
    "        self.avgpool = nn.AdaptiveAvgPool2d((6, 6))\n",
    "\n",
    "        self.classifier = nn.Sequential(\n",
    "            nn.Linear(256 * 6 * 6, 4096),\n",
    "            nn.ReLU(inplace=True),\n",
    "            nn.Dropout(0.5),\n",
    "\n",
    "            nn.Linear(4096, 4096),\n",
    "            nn.ReLU(inplace=True),\n",
    "            nn.Dropout(0.5),\n",
    "\n",
    "            nn.Linear(4096, num_classes)\n",
    "        )\n",
    "\n",
    "    def forward(self, x):\n",
    "        x = self.features(x)\n",
    "        x = self.avgpool(x)\n",
    "        x = x.view(x.size(0), -1)\n",
    "        x = self.classifier(x)\n",
    "        return x"
   ]
  },
  {
   "cell_type": "code",
   "execution_count": 108,
   "metadata": {},
   "outputs": [],
   "source": [
    "class AlexNet(nn.Module):\n",
    "    #acuracia no teste=62.52% || 63.08%\n",
    "    #acuracia no treino=81.46% || 86.80%\n",
    "    def __init__(self,num_classes=7):\n",
    "        super(AlexNet, self).__init__()\n",
    "\n",
    "        self.conv1 = nn.Conv2d(in_channels=3, out_channels=96, kernel_size=10, stride=4, padding=1)\n",
    "        self.bn1 = nn.BatchNorm2d(96)\n",
    "        self.pool1= nn.MaxPool2d(3,2)\n",
    "\n",
    "        self.conv2 = nn.Conv2d(in_channels=96, out_channels=256, kernel_size=5, stride=1, padding=2)\n",
    "        self.bn2 = nn.BatchNorm2d(256)\n",
    "        self.pool2 = nn.MaxPool2d(3,2)\n",
    "\n",
    "        self.conv3 = nn.Conv2d(in_channels=256, out_channels=384, kernel_size=3, stride=1, padding=1)\n",
    "        self.bn3 = nn.BatchNorm2d(384)\n",
    "\n",
    "        self.conv4 = nn.Conv2d(in_channels=384, out_channels=384, kernel_size=3, stride=1, padding=1)\n",
    "        self.bn4 = nn.BatchNorm2d(384)\n",
    "\n",
    "        self.conv5 = nn.Conv2d(in_channels=384, out_channels=256, kernel_size=3, stride=1, padding=1)\n",
    "        self.bn5 = nn.BatchNorm2d(256)\n",
    "        self.pool3 = nn.MaxPool2d(3,2)\n",
    "\n",
    "        self.fc1 = nn.Linear(9216, 4096)\n",
    "        self.fc2 = nn.Linear(4096, 4096)\n",
    "        self.fc3 = nn.Linear(4096, num_classes)\n",
    "\n",
    "\n",
    "    def forward(self, input):\n",
    "        output = F.relu(self.bn1(self.conv1(input)))   \n",
    "        output = self.pool1(output)     \n",
    "        output = F.relu(self.bn2(self.conv2(output)))     \n",
    "        output = self.pool2(output)    \n",
    "\n",
    "        output = F.relu(self.bn3(self.conv3(output)))     \n",
    "        output = F.relu(self.bn4(self.conv4(output)))   \n",
    "        output = F.relu(self.bn5(self.conv5(output))) \n",
    "        output = self.pool3(output)   \n",
    "\n",
    "        output = output.reshape(output.size(0),-1)\n",
    "\n",
    "        output = F.relu(self.fc1(output))\n",
    "        output = F.relu(self.fc2(output))\n",
    "        output = self.fc3(output)\n",
    "\n",
    "        return output"
   ]
  },
  {
   "cell_type": "code",
   "execution_count": 109,
   "metadata": {},
   "outputs": [],
   "source": [
    "class VGG19(nn.Module):\n",
    "    def __init__(self, num_classes=7):\n",
    "        super(VGG19, self).__init__()\n",
    "        self.features = nn.Sequential(\n",
    "            nn.Conv2d(3, 64, kernel_size=3, padding=1),\n",
    "            nn.ReLU(inplace=True),\n",
    "            nn.Conv2d(64, 64, kernel_size=3, padding=1),\n",
    "            nn.ReLU(inplace=True),\n",
    "            nn.MaxPool2d(kernel_size=2, stride=2),\n",
    "\n",
    "            nn.Conv2d(64, 128, kernel_size=3, padding=1),\n",
    "            nn.ReLU(inplace=True),\n",
    "            nn.Conv2d(128, 128, kernel_size=3, padding=1),\n",
    "            nn.ReLU(inplace=True),\n",
    "            nn.MaxPool2d(kernel_size=2, stride=2),\n",
    "\n",
    "            nn.Conv2d(128, 256, kernel_size=3, padding=1),\n",
    "            nn.ReLU(inplace=True),\n",
    "            nn.Conv2d(256, 256, kernel_size=3, padding=1),\n",
    "            nn.ReLU(inplace=True),\n",
    "            nn.Conv2d(256, 256, kernel_size=3, padding=1),\n",
    "            nn.ReLU(inplace=True),\n",
    "            nn.Conv2d(256, 256, kernel_size=3, padding=1),\n",
    "            nn.ReLU(inplace=True),\n",
    "            nn.MaxPool2d(kernel_size=2, stride=2),\n",
    "\n",
    "            nn.Conv2d(256, 512, kernel_size=3, padding=1),\n",
    "            nn.ReLU(inplace=True),\n",
    "            nn.Conv2d(512, 512, kernel_size=3, padding=1),\n",
    "            nn.ReLU(inplace=True),\n",
    "            nn.Conv2d(512, 512, kernel_size=3, padding=1),\n",
    "            nn.ReLU(inplace=True),\n",
    "            nn.Conv2d(512, 512, kernel_size=3, padding=1),\n",
    "            nn.ReLU(inplace=True),\n",
    "            nn.MaxPool2d(kernel_size=2, stride=2),\n",
    "\n",
    "            nn.Conv2d(512, 512, kernel_size=3, padding=1),\n",
    "            nn.ReLU(inplace=True),\n",
    "            nn.Conv2d(512, 512, kernel_size=3, padding=1),\n",
    "            nn.ReLU(inplace=True),\n",
    "            nn.Conv2d(512, 512, kernel_size=3, padding=1),\n",
    "            nn.ReLU(inplace=True),\n",
    "            nn.Conv2d(512, 512, kernel_size=3, padding=1),\n",
    "            nn.ReLU(inplace=True),\n",
    "            nn.MaxPool2d(kernel_size=2, stride=2),\n",
    "        )\n",
    "        \n",
    "        self.avgpool = nn.AdaptiveAvgPool2d((7, 7))\n",
    "        self.classifier = nn.Sequential(\n",
    "            nn.Linear(512 * 7 * 7, 4096),\n",
    "            nn.ReLU(inplace=True),\n",
    "            nn.Dropout(),\n",
    "            nn.Linear(4096, 4096),\n",
    "            nn.ReLU(inplace=True),\n",
    "            nn.Dropout(),\n",
    "            nn.Linear(4096, num_classes),\n",
    "        )\n",
    "        \n",
    "    def forward(self, x):\n",
    "        x = self.features(x)\n",
    "        x = self.avgpool(x)\n",
    "        x = torch.flatten(x, 1)\n",
    "        x = self.classifier(x)\n",
    "        return x"
   ]
  },
  {
   "attachments": {},
   "cell_type": "markdown",
   "metadata": {},
   "source": [
    "### Model Definition"
   ]
  },
  {
   "cell_type": "code",
   "execution_count": 110,
   "metadata": {},
   "outputs": [],
   "source": [
    "model = AlexNet()"
   ]
  },
  {
   "attachments": {},
   "cell_type": "markdown",
   "metadata": {},
   "source": [
    "### Define loss function and optimizer"
   ]
  },
  {
   "cell_type": "code",
   "execution_count": 111,
   "metadata": {},
   "outputs": [
    {
     "name": "stdout",
     "output_type": "stream",
     "text": [
      "Runing on: cuda\n"
     ]
    }
   ],
   "source": [
    "# Define your execution device\n",
    "device = torch.device(\"cuda:0\" if torch.cuda.is_available() else \"cpu\")\n",
    "print(\"Runing on: \"+ (\"cuda\" if torch.cuda.is_available() else \"cpu\"))\n",
    "\n",
    "learning_rate = 0.001\n",
    "\n",
    "loss_fn = nn.CrossEntropyLoss()\n",
    "optimizer = Adam(model.parameters(), lr=learning_rate,  weight_decay = 0.001)"
   ]
  },
  {
   "attachments": {},
   "cell_type": "markdown",
   "metadata": {},
   "source": [
    "### Model save"
   ]
  },
  {
   "cell_type": "code",
   "execution_count": 112,
   "metadata": {},
   "outputs": [],
   "source": [
    "def saveModel():\n",
    "    torch.save(model.state_dict(), \"apurated_model_alex.pth\")"
   ]
  },
  {
   "attachments": {},
   "cell_type": "markdown",
   "metadata": {},
   "source": [
    "## Training and Validation functions"
   ]
  },
  {
   "cell_type": "code",
   "execution_count": 113,
   "metadata": {},
   "outputs": [],
   "source": [
    "def train_epoch(model,device,dataloader):\n",
    "    train_loss,train_correct=0.0,0\n",
    "    model.train()\n",
    "    for images, labels in dataloader:\n",
    "\n",
    "        images,labels = images.to(device),labels.to(device)\n",
    "        optimizer.zero_grad()\n",
    "        output = model(images)\n",
    "        loss = loss_fn(output,labels)\n",
    "        loss.backward()\n",
    "        optimizer.step()\n",
    "        train_loss += loss.item() * images.size(0)\n",
    "        scores, predictions = torch.max(output.data, 1)\n",
    "        train_correct += (predictions == labels).sum().item()\n",
    "\n",
    "    return train_loss,train_correct\n",
    "  \n",
    "def valid_epoch(model,device,dataloader):\n",
    "    valid_loss, val_correct = 0.0, 0\n",
    "    model.eval()\n",
    "    with torch.no_grad():\n",
    "        for images, labels in dataloader:\n",
    "\n",
    "            images,labels = images.to(device),labels.to(device)\n",
    "            output = model(images)\n",
    "            loss=loss_fn(output,labels)\n",
    "            valid_loss+=loss.item()*images.size(0)\n",
    "            scores, predictions = torch.max(output.data,1)\n",
    "            val_correct+=(predictions == labels).sum().item()\n",
    "\n",
    "    return valid_loss,val_correct"
   ]
  },
  {
   "cell_type": "code",
   "execution_count": 114,
   "metadata": {},
   "outputs": [],
   "source": [
    "def train(num_epochs):\n",
    "    history = {'train_loss': [], 'test_loss': [],'train_acc':[],'test_acc':[]}\n",
    "    best_accuracy = 0.0\n",
    "\n",
    "    model.to(device)\n",
    "    \n",
    "    for fold, (train_idx,val_idx) in enumerate(splits.split(np.arange(len(concat_data)))):\n",
    "\n",
    "        print('Fold {}'.format(fold + 1))\n",
    "\n",
    "        test_sampler = SubsetRandomSampler(val_idx)\n",
    "        train_samples =  SubsetRandomSampler(train_idx)\n",
    "\n",
    "        test_loader = DataLoader(concat_data, batch_size=batch_size, sampler=test_sampler)\n",
    "        train_loader = DataLoader(concat_data, batch_size=batch_size, sampler=train_samples)\n",
    "\n",
    "        for epoch in range(num_epochs):\n",
    "            train_loss, train_correct=train_epoch(model,device,train_loader)\n",
    "            test_loss, test_correct=valid_epoch(model,device,test_loader)\n",
    "\n",
    "            train_loss = train_loss / len(train_loader.sampler)\n",
    "            train_acc = train_correct / len(train_loader.sampler) * 100\n",
    "\n",
    "            test_loss = test_loss / len(test_loader.sampler)\n",
    "            test_acc = test_correct / len(test_loader.sampler) * 100\n",
    "\n",
    "            print(\"Epoch:{}/{} AVG Training Loss:{:.3f} AVG Test Loss:{:.3f} AVG Training Acc {:.2f} % AVG Test Acc {:.2f} %\".format(epoch + 1,\n",
    "                                                                                                                    num_epochs,\n",
    "                                                                                                                    train_loss,\n",
    "                                                                                                                    test_loss,\n",
    "                                                                                                                    train_acc,\n",
    "                                                                                                                    test_acc))\n",
    "            if train_acc > best_accuracy:\n",
    "                saveModel()\n",
    "                best_accuracy = train_acc\n",
    "                print(\"Best Accuracy:{} %\".format(best_accuracy))\n",
    "\n",
    "            history['train_loss'].append(train_loss)\n",
    "            history['test_loss'].append(test_loss)\n",
    "            history['train_acc'].append(train_acc)\n",
    "            history['test_acc'].append(test_acc)   \n",
    "\n",
    "    df_history = pd.DataFrame(data=history)\n",
    "    df_history.to_csv(\"historic_alex.csv\", encoding='utf-8', index=False)"
   ]
  },
  {
   "attachments": {},
   "cell_type": "markdown",
   "metadata": {},
   "source": [
    "## Training"
   ]
  },
  {
   "cell_type": "code",
   "execution_count": 115,
   "metadata": {},
   "outputs": [
    {
     "data": {
      "text/plain": [
       "'|===========================================================================|\\n|                  PyTorch CUDA memory summary, device ID 0                 |\\n|---------------------------------------------------------------------------|\\n|            CUDA OOMs: 0            |        cudaMalloc retries: 0         |\\n|===========================================================================|\\n|        Metric         | Cur Usage  | Peak Usage | Tot Alloc  | Tot Freed  |\\n|---------------------------------------------------------------------------|\\n| Allocated memory      | 478346 KiB |   2039 MiB | 269051 GiB | 269050 GiB |\\n|       from large pool | 477783 KiB |   2037 MiB | 268271 GiB | 268270 GiB |\\n|       from small pool |    563 KiB |      8 MiB |    780 GiB |    780 GiB |\\n|---------------------------------------------------------------------------|\\n| Active memory         | 478346 KiB |   2039 MiB | 269051 GiB | 269050 GiB |\\n|       from large pool | 477783 KiB |   2037 MiB | 268271 GiB | 268270 GiB |\\n|       from small pool |    563 KiB |      8 MiB |    780 GiB |    780 GiB |\\n|---------------------------------------------------------------------------|\\n| Requested memory      | 478211 KiB |   2035 MiB | 267312 GiB | 267311 GiB |\\n|       from large pool | 477654 KiB |   2033 MiB | 266533 GiB | 266533 GiB |\\n|       from small pool |    556 KiB |      8 MiB |    778 GiB |    778 GiB |\\n|---------------------------------------------------------------------------|\\n| GPU reserved memory   | 534528 KiB |   2162 MiB |   4788 MiB |   4266 MiB |\\n|       from large pool | 532480 KiB |   2154 MiB |   4764 MiB |   4244 MiB |\\n|       from small pool |   2048 KiB |     10 MiB |     24 MiB |     22 MiB |\\n|---------------------------------------------------------------------------|\\n| Non-releasable memory |  56182 KiB | 168245 KiB |  82116 GiB |  82116 GiB |\\n|       from large pool |  54697 KiB | 166955 KiB |  80960 GiB |  80960 GiB |\\n|       from small pool |   1485 KiB |   5181 KiB |   1156 GiB |   1156 GiB |\\n|---------------------------------------------------------------------------|\\n| Allocations           |      75    |     284    |   37097 K  |   37097 K  |\\n|       from large pool |      15    |      59    |   14228 K  |   14228 K  |\\n|       from small pool |      60    |     226    |   22868 K  |   22868 K  |\\n|---------------------------------------------------------------------------|\\n| Active allocs         |      75    |     284    |   37097 K  |   37097 K  |\\n|       from large pool |      15    |      59    |   14228 K  |   14228 K  |\\n|       from small pool |      60    |     226    |   22868 K  |   22868 K  |\\n|---------------------------------------------------------------------------|\\n| GPU reserved segments |       8    |      31    |      68    |      60    |\\n|       from large pool |       7    |      27    |      56    |      49    |\\n|       from small pool |       1    |       5    |      12    |      11    |\\n|---------------------------------------------------------------------------|\\n| Non-releasable allocs |      16    |      28    |   14908 K  |   14908 K  |\\n|       from large pool |       6    |      14    |    7281 K  |    7281 K  |\\n|       from small pool |      10    |      16    |    7627 K  |    7627 K  |\\n|---------------------------------------------------------------------------|\\n| Oversize allocations  |       0    |       0    |       0    |       0    |\\n|---------------------------------------------------------------------------|\\n| Oversize GPU segments |       0    |       0    |       0    |       0    |\\n|===========================================================================|\\n'"
      ]
     },
     "execution_count": 115,
     "metadata": {},
     "output_type": "execute_result"
    }
   ],
   "source": [
    "torch.cuda.empty_cache()\n",
    "\n",
    "torch.cuda.memory_summary(device=None, abbreviated=False)"
   ]
  },
  {
   "cell_type": "code",
   "execution_count": 116,
   "metadata": {},
   "outputs": [
    {
     "name": "stdout",
     "output_type": "stream",
     "text": [
      "Fold 1\n",
      "Epoch:1/20 AVG Training Loss:1.704 AVG Test Loss:1.326 AVG Training Acc 32.15 % AVG Test Acc 48.02 %\n",
      "Best Accuracy:32.14722052535125 %\n",
      "Epoch:2/20 AVG Training Loss:1.216 AVG Test Loss:1.213 AVG Training Acc 52.15 % AVG Test Acc 52.95 %\n",
      "Best Accuracy:52.15142028100183 %\n",
      "Epoch:3/20 AVG Training Loss:1.124 AVG Test Loss:1.121 AVG Training Acc 55.83 % AVG Test Acc 56.61 %\n",
      "Best Accuracy:55.83384239462431 %\n",
      "Epoch:4/20 AVG Training Loss:1.065 AVG Test Loss:1.060 AVG Training Acc 58.89 % AVG Test Acc 59.03 %\n",
      "Best Accuracy:58.893937080024436 %\n",
      "Epoch:5/20 AVG Training Loss:1.035 AVG Test Loss:1.018 AVG Training Acc 60.28 % AVG Test Acc 61.02 %\n",
      "Best Accuracy:60.27985644471594 %\n",
      "Epoch:6/20 AVG Training Loss:1.011 AVG Test Loss:0.996 AVG Training Acc 61.25 % AVG Test Acc 61.71 %\n",
      "Best Accuracy:61.25152718387293 %\n",
      "Epoch:7/20 AVG Training Loss:0.996 AVG Test Loss:1.028 AVG Training Acc 62.09 % AVG Test Acc 60.20 %\n",
      "Best Accuracy:62.09338729383018 %\n",
      "Epoch:8/20 AVG Training Loss:0.985 AVG Test Loss:0.989 AVG Training Acc 62.53 % AVG Test Acc 62.05 %\n",
      "Best Accuracy:62.53436163714111 %\n",
      "Epoch:9/20 AVG Training Loss:0.971 AVG Test Loss:0.989 AVG Training Acc 63.13 % AVG Test Acc 62.55 %\n",
      "Best Accuracy:63.12614538790471 %\n",
      "Epoch:10/20 AVG Training Loss:0.963 AVG Test Loss:0.984 AVG Training Acc 63.33 % AVG Test Acc 63.37 %\n",
      "Best Accuracy:63.33422419059255 %\n",
      "Epoch:11/20 AVG Training Loss:0.958 AVG Test Loss:0.956 AVG Training Acc 63.63 % AVG Test Acc 63.60 %\n",
      "Best Accuracy:63.626298106292 %\n",
      "Epoch:12/20 AVG Training Loss:0.949 AVG Test Loss:0.989 AVG Training Acc 63.92 % AVG Test Acc 62.34 %\n",
      "Best Accuracy:63.922189981673796 %\n",
      "Epoch:13/20 AVG Training Loss:0.947 AVG Test Loss:1.028 AVG Training Acc 63.93 % AVG Test Acc 61.72 %\n",
      "Best Accuracy:63.92600794135615 %\n",
      "Epoch:14/20 AVG Training Loss:0.941 AVG Test Loss:1.184 AVG Training Acc 64.16 % AVG Test Acc 56.66 %\n",
      "Best Accuracy:64.15699450213805 %\n",
      "Epoch:15/20 AVG Training Loss:0.939 AVG Test Loss:0.966 AVG Training Acc 64.11 % AVG Test Acc 63.77 %\n",
      "Epoch:16/20 AVG Training Loss:0.937 AVG Test Loss:0.973 AVG Training Acc 64.55 % AVG Test Acc 62.88 %\n",
      "Best Accuracy:64.55406230910201 %\n",
      "Epoch:17/20 AVG Training Loss:0.933 AVG Test Loss:1.033 AVG Training Acc 64.54 % AVG Test Acc 60.11 %\n",
      "Epoch:18/20 AVG Training Loss:0.932 AVG Test Loss:0.961 AVG Training Acc 64.58 % AVG Test Acc 63.31 %\n",
      "Best Accuracy:64.5769700671961 %\n",
      "Epoch:19/20 AVG Training Loss:0.931 AVG Test Loss:0.944 AVG Training Acc 64.60 % AVG Test Acc 64.15 %\n",
      "Best Accuracy:64.60369578497252 %\n",
      "Epoch:20/20 AVG Training Loss:0.929 AVG Test Loss:0.952 AVG Training Acc 64.81 % AVG Test Acc 63.91 %\n",
      "Best Accuracy:64.80986560781918 %\n",
      "Fold 2\n",
      "Epoch:1/20 AVG Training Loss:0.934 AVG Test Loss:0.967 AVG Training Acc 64.49 % AVG Test Acc 63.65 %\n",
      "Epoch:2/20 AVG Training Loss:0.928 AVG Test Loss:0.938 AVG Training Acc 64.83 % AVG Test Acc 63.92 %\n",
      "Best Accuracy:64.83468234575443 %\n",
      "Epoch:3/20 AVG Training Loss:0.931 AVG Test Loss:0.929 AVG Training Acc 64.70 % AVG Test Acc 64.63 %\n",
      "Epoch:4/20 AVG Training Loss:0.927 AVG Test Loss:0.967 AVG Training Acc 64.93 % AVG Test Acc 63.48 %\n",
      "Best Accuracy:64.93204031765426 %\n",
      "Epoch:5/20 AVG Training Loss:0.925 AVG Test Loss:0.954 AVG Training Acc 64.83 % AVG Test Acc 63.55 %\n",
      "Epoch:6/20 AVG Training Loss:0.922 AVG Test Loss:0.926 AVG Training Acc 64.99 % AVG Test Acc 65.01 %\n",
      "Best Accuracy:64.9912186927306 %\n",
      "Epoch:7/20 AVG Training Loss:0.918 AVG Test Loss:0.967 AVG Training Acc 65.35 % AVG Test Acc 63.55 %\n",
      "Best Accuracy:65.3501069028711 %\n",
      "Epoch:8/20 AVG Training Loss:0.924 AVG Test Loss:0.981 AVG Training Acc 64.99 % AVG Test Acc 63.10 %\n",
      "Epoch:9/20 AVG Training Loss:0.920 AVG Test Loss:1.078 AVG Training Acc 65.08 % AVG Test Acc 58.50 %\n",
      "Epoch:10/20 AVG Training Loss:0.917 AVG Test Loss:0.978 AVG Training Acc 65.24 % AVG Test Acc 62.86 %\n",
      "Epoch:11/20 AVG Training Loss:0.921 AVG Test Loss:0.911 AVG Training Acc 65.08 % AVG Test Acc 65.64 %\n",
      "Epoch:12/20 AVG Training Loss:0.917 AVG Test Loss:0.928 AVG Training Acc 65.09 % AVG Test Acc 64.70 %\n",
      "Epoch:13/20 AVG Training Loss:0.913 AVG Test Loss:1.024 AVG Training Acc 65.21 % AVG Test Acc 60.38 %\n",
      "Epoch:14/20 AVG Training Loss:0.915 AVG Test Loss:0.990 AVG Training Acc 65.30 % AVG Test Acc 62.12 %\n",
      "Epoch:15/20 AVG Training Loss:0.915 AVG Test Loss:0.974 AVG Training Acc 65.30 % AVG Test Acc 62.94 %\n",
      "Epoch:16/20 AVG Training Loss:0.913 AVG Test Loss:1.051 AVG Training Acc 65.32 % AVG Test Acc 59.66 %\n",
      "Epoch:17/20 AVG Training Loss:0.913 AVG Test Loss:0.958 AVG Training Acc 65.29 % AVG Test Acc 62.79 %\n",
      "Epoch:18/20 AVG Training Loss:0.914 AVG Test Loss:0.945 AVG Training Acc 65.15 % AVG Test Acc 64.22 %\n",
      "Epoch:19/20 AVG Training Loss:0.913 AVG Test Loss:0.992 AVG Training Acc 65.32 % AVG Test Acc 62.17 %\n",
      "Epoch:20/20 AVG Training Loss:0.912 AVG Test Loss:0.918 AVG Training Acc 65.35 % AVG Test Acc 64.71 %\n",
      "Best Accuracy:65.35392486255344 %\n",
      "Fold 3\n",
      "Epoch:1/20 AVG Training Loss:0.917 AVG Test Loss:0.960 AVG Training Acc 64.99 % AVG Test Acc 63.56 %\n",
      "Epoch:2/20 AVG Training Loss:0.912 AVG Test Loss:0.937 AVG Training Acc 65.43 % AVG Test Acc 64.58 %\n",
      "Best Accuracy:65.42646609651803 %\n",
      "Epoch:3/20 AVG Training Loss:0.912 AVG Test Loss:0.966 AVG Training Acc 65.50 % AVG Test Acc 63.72 %\n",
      "Best Accuracy:65.4990073304826 %\n",
      "Epoch:4/20 AVG Training Loss:0.913 AVG Test Loss:0.940 AVG Training Acc 65.37 % AVG Test Acc 64.58 %\n",
      "Epoch:5/20 AVG Training Loss:0.912 AVG Test Loss:0.905 AVG Training Acc 65.50 % AVG Test Acc 65.76 %\n",
      "Best Accuracy:65.50282529016494 %\n",
      "Epoch:6/20 AVG Training Loss:0.912 AVG Test Loss:1.016 AVG Training Acc 65.37 % AVG Test Acc 61.69 %\n",
      "Epoch:7/20 AVG Training Loss:0.907 AVG Test Loss:0.934 AVG Training Acc 65.52 % AVG Test Acc 64.92 %\n",
      "Best Accuracy:65.51618814905315 %\n",
      "Epoch:8/20 AVG Training Loss:0.907 AVG Test Loss:0.943 AVG Training Acc 65.56 % AVG Test Acc 64.11 %\n",
      "Best Accuracy:65.55818570555894 %\n",
      "Epoch:9/20 AVG Training Loss:0.904 AVG Test Loss:0.942 AVG Training Acc 65.84 % AVG Test Acc 65.01 %\n",
      "Best Accuracy:65.84262370189371 %\n",
      "Epoch:10/20 AVG Training Loss:0.907 AVG Test Loss:0.939 AVG Training Acc 65.84 % AVG Test Acc 64.42 %\n",
      "Epoch:11/20 AVG Training Loss:0.903 AVG Test Loss:0.945 AVG Training Acc 65.99 % AVG Test Acc 64.10 %\n",
      "Best Accuracy:65.99343310934637 %\n",
      "Epoch:12/20 AVG Training Loss:0.908 AVG Test Loss:1.008 AVG Training Acc 65.63 % AVG Test Acc 61.93 %\n",
      "Epoch:13/20 AVG Training Loss:0.909 AVG Test Loss:1.009 AVG Training Acc 65.35 % AVG Test Acc 61.09 %\n",
      "Epoch:14/20 AVG Training Loss:0.906 AVG Test Loss:1.040 AVG Training Acc 65.77 % AVG Test Acc 59.99 %\n",
      "Epoch:15/20 AVG Training Loss:0.904 AVG Test Loss:0.997 AVG Training Acc 65.69 % AVG Test Acc 62.15 %\n",
      "Epoch:16/20 AVG Training Loss:0.906 AVG Test Loss:0.912 AVG Training Acc 65.64 % AVG Test Acc 65.26 %\n",
      "Epoch:17/20 AVG Training Loss:0.905 AVG Test Loss:0.968 AVG Training Acc 65.77 % AVG Test Acc 63.19 %\n",
      "Epoch:18/20 AVG Training Loss:0.900 AVG Test Loss:0.977 AVG Training Acc 65.67 % AVG Test Acc 62.81 %\n",
      "Epoch:19/20 AVG Training Loss:0.903 AVG Test Loss:0.933 AVG Training Acc 65.71 % AVG Test Acc 64.22 %\n",
      "Epoch:20/20 AVG Training Loss:0.905 AVG Test Loss:0.957 AVG Training Acc 65.69 % AVG Test Acc 64.10 %\n",
      "Fold 4\n",
      "Epoch:1/20 AVG Training Loss:0.908 AVG Test Loss:0.938 AVG Training Acc 65.40 % AVG Test Acc 64.13 %\n",
      "Epoch:2/20 AVG Training Loss:0.909 AVG Test Loss:1.043 AVG Training Acc 65.56 % AVG Test Acc 59.68 %\n",
      "Epoch:3/20 AVG Training Loss:0.907 AVG Test Loss:0.907 AVG Training Acc 65.53 % AVG Test Acc 65.40 %\n",
      "Epoch:4/20 AVG Training Loss:0.907 AVG Test Loss:0.951 AVG Training Acc 65.49 % AVG Test Acc 63.53 %\n",
      "Epoch:5/20 AVG Training Loss:0.905 AVG Test Loss:0.952 AVG Training Acc 65.62 % AVG Test Acc 63.44 %\n",
      "Epoch:6/20 AVG Training Loss:0.907 AVG Test Loss:0.955 AVG Training Acc 65.79 % AVG Test Acc 64.04 %\n",
      "Epoch:7/20 AVG Training Loss:0.905 AVG Test Loss:0.923 AVG Training Acc 65.68 % AVG Test Acc 64.59 %\n",
      "Epoch:8/20 AVG Training Loss:0.904 AVG Test Loss:0.947 AVG Training Acc 65.79 % AVG Test Acc 64.82 %\n",
      "Epoch:9/20 AVG Training Loss:0.902 AVG Test Loss:0.928 AVG Training Acc 65.82 % AVG Test Acc 64.32 %\n",
      "Epoch:10/20 AVG Training Loss:0.903 AVG Test Loss:0.936 AVG Training Acc 65.73 % AVG Test Acc 65.16 %\n",
      "Epoch:11/20 AVG Training Loss:0.902 AVG Test Loss:0.914 AVG Training Acc 65.79 % AVG Test Acc 65.64 %\n",
      "Epoch:12/20 AVG Training Loss:0.901 AVG Test Loss:0.908 AVG Training Acc 65.76 % AVG Test Acc 65.33 %\n",
      "Epoch:13/20 AVG Training Loss:0.899 AVG Test Loss:1.080 AVG Training Acc 65.77 % AVG Test Acc 59.78 %\n",
      "Epoch:14/20 AVG Training Loss:0.900 AVG Test Loss:1.080 AVG Training Acc 65.82 % AVG Test Acc 58.99 %\n",
      "Epoch:15/20 AVG Training Loss:0.902 AVG Test Loss:0.946 AVG Training Acc 66.07 % AVG Test Acc 63.82 %\n",
      "Best Accuracy:66.06788332315212 %\n",
      "Epoch:16/20 AVG Training Loss:0.902 AVG Test Loss:0.940 AVG Training Acc 65.94 % AVG Test Acc 64.52 %\n",
      "Epoch:17/20 AVG Training Loss:0.902 AVG Test Loss:0.994 AVG Training Acc 65.71 % AVG Test Acc 61.16 %\n",
      "Epoch:18/20 AVG Training Loss:0.902 AVG Test Loss:0.948 AVG Training Acc 66.09 % AVG Test Acc 63.46 %\n",
      "Best Accuracy:66.09460904092853 %\n",
      "Epoch:19/20 AVG Training Loss:0.905 AVG Test Loss:0.900 AVG Training Acc 65.49 % AVG Test Acc 66.04 %\n",
      "Epoch:20/20 AVG Training Loss:0.901 AVG Test Loss:0.923 AVG Training Acc 65.61 % AVG Test Acc 64.61 %\n",
      "Fold 5\n",
      "Epoch:1/20 AVG Training Loss:0.902 AVG Test Loss:0.922 AVG Training Acc 65.93 % AVG Test Acc 65.11 %\n",
      "Epoch:2/20 AVG Training Loss:0.903 AVG Test Loss:0.921 AVG Training Acc 65.67 % AVG Test Acc 65.37 %\n",
      "Epoch:3/20 AVG Training Loss:0.901 AVG Test Loss:0.989 AVG Training Acc 65.67 % AVG Test Acc 61.90 %\n",
      "Epoch:4/20 AVG Training Loss:0.902 AVG Test Loss:0.953 AVG Training Acc 65.75 % AVG Test Acc 64.83 %\n",
      "Epoch:5/20 AVG Training Loss:0.898 AVG Test Loss:0.950 AVG Training Acc 65.95 % AVG Test Acc 64.44 %\n",
      "Epoch:6/20 AVG Training Loss:0.897 AVG Test Loss:0.934 AVG Training Acc 65.98 % AVG Test Acc 65.09 %\n",
      "Epoch:7/20 AVG Training Loss:0.898 AVG Test Loss:0.972 AVG Training Acc 65.89 % AVG Test Acc 63.15 %\n",
      "Epoch:8/20 AVG Training Loss:0.896 AVG Test Loss:0.970 AVG Training Acc 66.08 % AVG Test Acc 63.05 %\n",
      "Epoch:9/20 AVG Training Loss:0.897 AVG Test Loss:0.988 AVG Training Acc 66.08 % AVG Test Acc 62.45 %\n",
      "Epoch:10/20 AVG Training Loss:0.893 AVG Test Loss:0.957 AVG Training Acc 66.01 % AVG Test Acc 63.44 %\n",
      "Epoch:11/20 AVG Training Loss:0.897 AVG Test Loss:1.001 AVG Training Acc 65.92 % AVG Test Acc 62.46 %\n",
      "Epoch:12/20 AVG Training Loss:0.895 AVG Test Loss:0.951 AVG Training Acc 66.12 % AVG Test Acc 64.49 %\n",
      "Best Accuracy:66.12324373854612 %\n",
      "Epoch:13/20 AVG Training Loss:0.902 AVG Test Loss:0.961 AVG Training Acc 65.73 % AVG Test Acc 64.42 %\n",
      "Epoch:14/20 AVG Training Loss:0.902 AVG Test Loss:0.958 AVG Training Acc 65.83 % AVG Test Acc 63.80 %\n",
      "Epoch:15/20 AVG Training Loss:0.897 AVG Test Loss:0.986 AVG Training Acc 65.79 % AVG Test Acc 62.76 %\n",
      "Epoch:16/20 AVG Training Loss:0.895 AVG Test Loss:0.960 AVG Training Acc 66.09 % AVG Test Acc 63.75 %\n",
      "Epoch:17/20 AVG Training Loss:0.900 AVG Test Loss:0.995 AVG Training Acc 65.77 % AVG Test Acc 62.46 %\n",
      "Epoch:18/20 AVG Training Loss:0.897 AVG Test Loss:1.024 AVG Training Acc 65.97 % AVG Test Acc 61.12 %\n",
      "Epoch:19/20 AVG Training Loss:0.898 AVG Test Loss:1.009 AVG Training Acc 65.87 % AVG Test Acc 62.34 %\n",
      "Epoch:20/20 AVG Training Loss:0.897 AVG Test Loss:0.941 AVG Training Acc 65.90 % AVG Test Acc 64.78 %\n",
      "Fold 6\n",
      "Epoch:1/20 AVG Training Loss:0.907 AVG Test Loss:0.904 AVG Training Acc 65.62 % AVG Test Acc 65.82 %\n",
      "Epoch:2/20 AVG Training Loss:0.906 AVG Test Loss:0.947 AVG Training Acc 65.48 % AVG Test Acc 63.26 %\n",
      "Epoch:3/20 AVG Training Loss:0.907 AVG Test Loss:0.918 AVG Training Acc 65.59 % AVG Test Acc 64.97 %\n",
      "Epoch:4/20 AVG Training Loss:0.902 AVG Test Loss:0.913 AVG Training Acc 65.69 % AVG Test Acc 65.07 %\n",
      "Epoch:5/20 AVG Training Loss:0.903 AVG Test Loss:0.973 AVG Training Acc 65.61 % AVG Test Acc 62.46 %\n",
      "Epoch:6/20 AVG Training Loss:0.904 AVG Test Loss:0.935 AVG Training Acc 65.72 % AVG Test Acc 64.35 %\n",
      "Epoch:7/20 AVG Training Loss:0.901 AVG Test Loss:0.960 AVG Training Acc 65.81 % AVG Test Acc 62.78 %\n",
      "Epoch:8/20 AVG Training Loss:0.903 AVG Test Loss:0.932 AVG Training Acc 65.90 % AVG Test Acc 64.55 %\n",
      "Epoch:9/20 AVG Training Loss:0.897 AVG Test Loss:0.924 AVG Training Acc 66.04 % AVG Test Acc 64.64 %\n",
      "Epoch:10/20 AVG Training Loss:0.898 AVG Test Loss:0.929 AVG Training Acc 65.91 % AVG Test Acc 64.00 %\n",
      "Epoch:11/20 AVG Training Loss:0.896 AVG Test Loss:0.921 AVG Training Acc 65.92 % AVG Test Acc 64.73 %\n",
      "Epoch:12/20 AVG Training Loss:0.898 AVG Test Loss:0.922 AVG Training Acc 66.01 % AVG Test Acc 64.78 %\n",
      "Epoch:13/20 AVG Training Loss:0.897 AVG Test Loss:1.014 AVG Training Acc 65.94 % AVG Test Acc 62.25 %\n",
      "Epoch:14/20 AVG Training Loss:0.901 AVG Test Loss:0.951 AVG Training Acc 65.99 % AVG Test Acc 63.99 %\n",
      "Epoch:15/20 AVG Training Loss:0.897 AVG Test Loss:0.964 AVG Training Acc 66.01 % AVG Test Acc 63.14 %\n",
      "Epoch:16/20 AVG Training Loss:0.898 AVG Test Loss:1.024 AVG Training Acc 66.04 % AVG Test Acc 60.48 %\n",
      "Epoch:17/20 AVG Training Loss:0.898 AVG Test Loss:0.959 AVG Training Acc 66.00 % AVG Test Acc 63.21 %\n",
      "Epoch:18/20 AVG Training Loss:0.898 AVG Test Loss:0.905 AVG Training Acc 66.10 % AVG Test Acc 65.52 %\n",
      "Epoch:19/20 AVG Training Loss:0.898 AVG Test Loss:0.927 AVG Training Acc 65.98 % AVG Test Acc 65.45 %\n",
      "Epoch:20/20 AVG Training Loss:0.897 AVG Test Loss:0.966 AVG Training Acc 66.07 % AVG Test Acc 62.68 %\n",
      "Fold 7\n",
      "Epoch:1/20 AVG Training Loss:0.905 AVG Test Loss:0.876 AVG Training Acc 65.67 % AVG Test Acc 66.22 %\n",
      "Epoch:2/20 AVG Training Loss:0.904 AVG Test Loss:0.901 AVG Training Acc 65.73 % AVG Test Acc 66.15 %\n",
      "Epoch:3/20 AVG Training Loss:0.905 AVG Test Loss:0.894 AVG Training Acc 65.52 % AVG Test Acc 66.01 %\n",
      "Epoch:4/20 AVG Training Loss:0.903 AVG Test Loss:0.903 AVG Training Acc 65.76 % AVG Test Acc 65.65 %\n",
      "Epoch:5/20 AVG Training Loss:0.903 AVG Test Loss:0.915 AVG Training Acc 65.71 % AVG Test Acc 65.48 %\n",
      "Epoch:6/20 AVG Training Loss:0.899 AVG Test Loss:0.937 AVG Training Acc 65.84 % AVG Test Acc 63.45 %\n",
      "Epoch:7/20 AVG Training Loss:0.902 AVG Test Loss:0.941 AVG Training Acc 65.62 % AVG Test Acc 63.47 %\n",
      "Epoch:8/20 AVG Training Loss:0.898 AVG Test Loss:0.916 AVG Training Acc 65.97 % AVG Test Acc 64.81 %\n",
      "Epoch:9/20 AVG Training Loss:0.902 AVG Test Loss:0.883 AVG Training Acc 65.82 % AVG Test Acc 66.24 %\n",
      "Epoch:10/20 AVG Training Loss:0.901 AVG Test Loss:0.944 AVG Training Acc 65.94 % AVG Test Acc 63.33 %\n",
      "Epoch:11/20 AVG Training Loss:0.902 AVG Test Loss:0.959 AVG Training Acc 65.82 % AVG Test Acc 63.63 %\n",
      "Epoch:12/20 AVG Training Loss:0.901 AVG Test Loss:0.886 AVG Training Acc 65.81 % AVG Test Acc 66.44 %\n",
      "Epoch:13/20 AVG Training Loss:0.897 AVG Test Loss:0.880 AVG Training Acc 65.97 % AVG Test Acc 66.60 %\n",
      "Epoch:14/20 AVG Training Loss:0.898 AVG Test Loss:0.932 AVG Training Acc 65.93 % AVG Test Acc 65.38 %\n",
      "Epoch:15/20 AVG Training Loss:0.901 AVG Test Loss:0.925 AVG Training Acc 65.93 % AVG Test Acc 64.91 %\n",
      "Epoch:16/20 AVG Training Loss:0.900 AVG Test Loss:0.883 AVG Training Acc 66.03 % AVG Test Acc 66.68 %\n",
      "Epoch:17/20 AVG Training Loss:0.900 AVG Test Loss:0.899 AVG Training Acc 65.96 % AVG Test Acc 64.59 %\n",
      "Epoch:18/20 AVG Training Loss:0.896 AVG Test Loss:0.915 AVG Training Acc 66.14 % AVG Test Acc 65.60 %\n",
      "Best Accuracy:66.13916197384746 %\n",
      "Epoch:19/20 AVG Training Loss:0.898 AVG Test Loss:0.896 AVG Training Acc 65.91 % AVG Test Acc 65.77 %\n",
      "Epoch:20/20 AVG Training Loss:0.898 AVG Test Loss:0.924 AVG Training Acc 66.08 % AVG Test Acc 65.27 %\n",
      "Fold 8\n",
      "Epoch:1/20 AVG Training Loss:0.906 AVG Test Loss:0.910 AVG Training Acc 65.52 % AVG Test Acc 66.24 %\n",
      "Epoch:2/20 AVG Training Loss:0.901 AVG Test Loss:0.944 AVG Training Acc 65.88 % AVG Test Acc 64.79 %\n",
      "Epoch:3/20 AVG Training Loss:0.899 AVG Test Loss:0.891 AVG Training Acc 65.98 % AVG Test Acc 66.62 %\n",
      "Epoch:4/20 AVG Training Loss:0.899 AVG Test Loss:0.892 AVG Training Acc 65.99 % AVG Test Acc 65.84 %\n",
      "Epoch:5/20 AVG Training Loss:0.896 AVG Test Loss:0.888 AVG Training Acc 65.97 % AVG Test Acc 65.50 %\n",
      "Epoch:6/20 AVG Training Loss:0.895 AVG Test Loss:0.893 AVG Training Acc 65.99 % AVG Test Acc 66.56 %\n",
      "Epoch:7/20 AVG Training Loss:0.899 AVG Test Loss:0.932 AVG Training Acc 65.87 % AVG Test Acc 64.55 %\n",
      "Epoch:8/20 AVG Training Loss:0.899 AVG Test Loss:0.906 AVG Training Acc 65.93 % AVG Test Acc 65.74 %\n",
      "Epoch:9/20 AVG Training Loss:0.900 AVG Test Loss:1.021 AVG Training Acc 65.63 % AVG Test Acc 60.74 %\n",
      "Epoch:10/20 AVG Training Loss:0.897 AVG Test Loss:0.900 AVG Training Acc 66.00 % AVG Test Acc 66.07 %\n",
      "Epoch:11/20 AVG Training Loss:0.896 AVG Test Loss:0.908 AVG Training Acc 66.10 % AVG Test Acc 65.48 %\n",
      "Epoch:12/20 AVG Training Loss:0.900 AVG Test Loss:0.927 AVG Training Acc 65.99 % AVG Test Acc 63.97 %\n",
      "Epoch:13/20 AVG Training Loss:0.897 AVG Test Loss:0.962 AVG Training Acc 66.04 % AVG Test Acc 63.11 %\n",
      "Epoch:14/20 AVG Training Loss:0.898 AVG Test Loss:0.942 AVG Training Acc 65.97 % AVG Test Acc 64.93 %\n",
      "Epoch:15/20 AVG Training Loss:0.897 AVG Test Loss:0.974 AVG Training Acc 66.11 % AVG Test Acc 63.28 %\n",
      "Epoch:16/20 AVG Training Loss:0.901 AVG Test Loss:1.058 AVG Training Acc 65.89 % AVG Test Acc 59.19 %\n",
      "Epoch:17/20 AVG Training Loss:0.897 AVG Test Loss:0.960 AVG Training Acc 66.01 % AVG Test Acc 63.71 %\n",
      "Epoch:18/20 AVG Training Loss:0.897 AVG Test Loss:0.926 AVG Training Acc 65.91 % AVG Test Acc 64.93 %\n",
      "Epoch:19/20 AVG Training Loss:0.897 AVG Test Loss:0.930 AVG Training Acc 65.87 % AVG Test Acc 64.18 %\n",
      "Epoch:20/20 AVG Training Loss:0.900 AVG Test Loss:0.993 AVG Training Acc 65.92 % AVG Test Acc 62.13 %\n",
      "Fold 9\n",
      "Epoch:1/20 AVG Training Loss:0.900 AVG Test Loss:0.942 AVG Training Acc 65.84 % AVG Test Acc 63.57 %\n",
      "Epoch:2/20 AVG Training Loss:0.896 AVG Test Loss:0.964 AVG Training Acc 66.03 % AVG Test Acc 63.57 %\n",
      "Epoch:3/20 AVG Training Loss:0.896 AVG Test Loss:0.925 AVG Training Acc 65.93 % AVG Test Acc 65.19 %\n",
      "Epoch:4/20 AVG Training Loss:0.894 AVG Test Loss:0.957 AVG Training Acc 66.20 % AVG Test Acc 63.59 %\n",
      "Best Accuracy:66.20215710604181 %\n",
      "Epoch:5/20 AVG Training Loss:0.895 AVG Test Loss:0.946 AVG Training Acc 66.14 % AVG Test Acc 64.11 %\n",
      "Epoch:6/20 AVG Training Loss:0.897 AVG Test Loss:0.916 AVG Training Acc 66.07 % AVG Test Acc 65.14 %\n",
      "Epoch:7/20 AVG Training Loss:0.896 AVG Test Loss:0.916 AVG Training Acc 65.90 % AVG Test Acc 66.05 %\n",
      "Epoch:8/20 AVG Training Loss:0.894 AVG Test Loss:0.944 AVG Training Acc 66.21 % AVG Test Acc 64.05 %\n",
      "Best Accuracy:66.21361076644078 %\n",
      "Epoch:9/20 AVG Training Loss:0.898 AVG Test Loss:0.943 AVG Training Acc 66.04 % AVG Test Acc 64.26 %\n",
      "Epoch:10/20 AVG Training Loss:0.893 AVG Test Loss:0.949 AVG Training Acc 66.13 % AVG Test Acc 64.11 %\n",
      "Epoch:11/20 AVG Training Loss:0.895 AVG Test Loss:0.945 AVG Training Acc 66.22 % AVG Test Acc 64.36 %\n",
      "Best Accuracy:66.21551970984059 %\n",
      "Epoch:12/20 AVG Training Loss:0.896 AVG Test Loss:0.917 AVG Training Acc 66.08 % AVG Test Acc 65.55 %\n",
      "Epoch:13/20 AVG Training Loss:0.896 AVG Test Loss:0.950 AVG Training Acc 66.21 % AVG Test Acc 65.33 %\n",
      "Epoch:14/20 AVG Training Loss:0.896 AVG Test Loss:0.940 AVG Training Acc 65.88 % AVG Test Acc 65.22 %\n",
      "Epoch:15/20 AVG Training Loss:0.894 AVG Test Loss:0.902 AVG Training Acc 66.00 % AVG Test Acc 65.95 %\n",
      "Epoch:16/20 AVG Training Loss:0.893 AVG Test Loss:0.963 AVG Training Acc 66.17 % AVG Test Acc 63.66 %\n",
      "Epoch:17/20 AVG Training Loss:0.896 AVG Test Loss:0.907 AVG Training Acc 66.12 % AVG Test Acc 65.46 %\n",
      "Epoch:18/20 AVG Training Loss:0.894 AVG Test Loss:0.922 AVG Training Acc 66.08 % AVG Test Acc 65.14 %\n",
      "Epoch:19/20 AVG Training Loss:0.895 AVG Test Loss:0.925 AVG Training Acc 66.21 % AVG Test Acc 65.09 %\n",
      "Epoch:20/20 AVG Training Loss:0.895 AVG Test Loss:0.985 AVG Training Acc 66.22 % AVG Test Acc 62.96 %\n",
      "Best Accuracy:66.22124654004008 %\n",
      "Fold 10\n",
      "Epoch:1/20 AVG Training Loss:0.897 AVG Test Loss:0.901 AVG Training Acc 66.14 % AVG Test Acc 66.53 %\n",
      "Epoch:2/20 AVG Training Loss:0.897 AVG Test Loss:0.891 AVG Training Acc 66.06 % AVG Test Acc 66.05 %\n",
      "Epoch:3/20 AVG Training Loss:0.896 AVG Test Loss:0.973 AVG Training Acc 66.15 % AVG Test Acc 62.63 %\n",
      "Epoch:4/20 AVG Training Loss:0.892 AVG Test Loss:0.913 AVG Training Acc 66.23 % AVG Test Acc 65.62 %\n",
      "Best Accuracy:66.22506442683974 %\n",
      "Epoch:5/20 AVG Training Loss:0.901 AVG Test Loss:0.922 AVG Training Acc 65.72 % AVG Test Acc 65.48 %\n",
      "Epoch:6/20 AVG Training Loss:0.894 AVG Test Loss:0.946 AVG Training Acc 66.29 % AVG Test Acc 64.23 %\n",
      "Best Accuracy:66.28996850243391 %\n",
      "Epoch:7/20 AVG Training Loss:0.895 AVG Test Loss:0.956 AVG Training Acc 66.17 % AVG Test Acc 63.83 %\n",
      "Epoch:8/20 AVG Training Loss:0.893 AVG Test Loss:0.970 AVG Training Acc 66.13 % AVG Test Acc 62.08 %\n",
      "Epoch:9/20 AVG Training Loss:0.894 AVG Test Loss:0.962 AVG Training Acc 66.09 % AVG Test Acc 63.63 %\n",
      "Epoch:10/20 AVG Training Loss:0.895 AVG Test Loss:0.933 AVG Training Acc 66.13 % AVG Test Acc 65.14 %\n",
      "Epoch:11/20 AVG Training Loss:0.895 AVG Test Loss:0.922 AVG Training Acc 65.96 % AVG Test Acc 64.85 %\n",
      "Epoch:12/20 AVG Training Loss:0.894 AVG Test Loss:1.016 AVG Training Acc 66.23 % AVG Test Acc 61.65 %\n",
      "Epoch:13/20 AVG Training Loss:0.896 AVG Test Loss:0.979 AVG Training Acc 66.11 % AVG Test Acc 62.90 %\n",
      "Epoch:14/20 AVG Training Loss:0.895 AVG Test Loss:0.931 AVG Training Acc 66.04 % AVG Test Acc 64.21 %\n",
      "Epoch:15/20 AVG Training Loss:0.890 AVG Test Loss:0.893 AVG Training Acc 66.37 % AVG Test Acc 66.70 %\n",
      "Best Accuracy:66.37014412522669 %\n",
      "Epoch:16/20 AVG Training Loss:0.891 AVG Test Loss:1.009 AVG Training Acc 66.28 % AVG Test Acc 62.25 %\n",
      "Epoch:17/20 AVG Training Loss:0.893 AVG Test Loss:0.968 AVG Training Acc 66.06 % AVG Test Acc 63.33 %\n",
      "Epoch:18/20 AVG Training Loss:0.895 AVG Test Loss:0.919 AVG Training Acc 66.00 % AVG Test Acc 65.09 %\n",
      "Epoch:19/20 AVG Training Loss:0.891 AVG Test Loss:1.029 AVG Training Acc 66.16 % AVG Test Acc 62.27 %\n",
      "Epoch:20/20 AVG Training Loss:0.890 AVG Test Loss:0.938 AVG Training Acc 66.07 % AVG Test Acc 64.30 %\n",
      "Finished Training\n"
     ]
    }
   ],
   "source": [
    "train(20)\n",
    "print('Finished Training')"
   ]
  },
  {
   "attachments": {},
   "cell_type": "markdown",
   "metadata": {},
   "source": [
    "# TEST"
   ]
  },
  {
   "cell_type": "code",
   "execution_count": 122,
   "metadata": {},
   "outputs": [],
   "source": [
    "test_transform = transforms.Compose([\n",
    "    transforms.Resize((227,227)),\n",
    "    transforms.Grayscale(num_output_channels=3),\n",
    "    transforms.ToTensor(),\n",
    "])\n",
    "\n",
    "test_dataset = datasets.ImageFolder('./color_dataset_2/test', transform=test_transform)\n",
    "test_loaded = DataLoader(test_dataset, batch_size=batch_size, shuffle=True)"
   ]
  },
  {
   "cell_type": "code",
   "execution_count": 123,
   "metadata": {},
   "outputs": [],
   "source": [
    "def test_model(model):\n",
    "    valid_loss, val_correct = 0.0, 0\n",
    "    model.eval()\n",
    "    with torch.no_grad():\n",
    "        for images, labels in test_loaded:\n",
    "\n",
    "            output = model(images)\n",
    "            loss=loss_fn(output,labels)\n",
    "            valid_loss+=loss.item()*images.size(0)\n",
    "            scores, predictions = torch.max(output.data,1)\n",
    "            val_correct+=(predictions == labels).sum().item()\n",
    "\n",
    "    return valid_loss,val_correct"
   ]
  },
  {
   "cell_type": "code",
   "execution_count": 124,
   "metadata": {},
   "outputs": [],
   "source": [
    "def testBatch(model):\n",
    "    model.eval()\n",
    "    # get batch of images from the test DataLoader  \n",
    "    images, labels = next(iter(test_loaded))\n",
    "   \n",
    "    # show all images as one image grid\n",
    "    img = torchvision.utils.make_grid(images)     # unnormalize\n",
    "    npimg = img.numpy()\n",
    "    plt.imshow(np.transpose(npimg, (1, 2, 0)))\n",
    "    plt.show()\n",
    "   \n",
    "    # Show the real labels on the screen \n",
    "    print('Real labels: ', ' '.join('%5s' % classes[labels[j]] \n",
    "                               for j in range(batch_size)))\n",
    "  \n",
    "    with torch.no_grad():\n",
    "        output = model(images)\n",
    "        scores, predictions = torch.max(output.data,1)\n",
    "        \n",
    "        # Let's show the predicted labels on the screen to compare with the real ones\n",
    "        print('Predicted: ', ' '.join('%5s' % classes[predictions[j]] \n",
    "                                for j in range(batch_size)))"
   ]
  },
  {
   "cell_type": "code",
   "execution_count": 125,
   "metadata": {},
   "outputs": [
    {
     "data": {
      "text/plain": [
       "<All keys matched successfully>"
      ]
     },
     "execution_count": 125,
     "metadata": {},
     "output_type": "execute_result"
    }
   ],
   "source": [
    "model = AlexNet()\n",
    "path = \"apurated_model_alex.pth\"\n",
    "model.load_state_dict(torch.load(path))"
   ]
  },
  {
   "cell_type": "code",
   "execution_count": 126,
   "metadata": {},
   "outputs": [
    {
     "name": "stdout",
     "output_type": "stream",
     "text": [
      "AVG Test Loss:1.431 AVG Test Acc 57.25 %\n"
     ]
    }
   ],
   "source": [
    "valid_loss,val_correct = test_model(model)\n",
    "\n",
    "valid_loss = valid_loss / len(test_loaded.sampler)\n",
    "val_acc = val_correct / len(test_loaded.sampler) * 100\n",
    "\n",
    "print(\"AVG Test Loss:{:.3f} AVG Test Acc {:.2f} %\".format(valid_loss,val_acc))\n",
    "                                    "
   ]
  }
 ],
 "metadata": {
  "kernelspec": {
   "display_name": "Python 3",
   "language": "python",
   "name": "python3"
  },
  "language_info": {
   "codemirror_mode": {
    "name": "ipython",
    "version": 3
   },
   "file_extension": ".py",
   "mimetype": "text/x-python",
   "name": "python",
   "nbconvert_exporter": "python",
   "pygments_lexer": "ipython3",
   "version": "3.8.10"
  },
  "orig_nbformat": 4
 },
 "nbformat": 4,
 "nbformat_minor": 2
}
